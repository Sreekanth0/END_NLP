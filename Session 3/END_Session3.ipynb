{
  "nbformat": 4,
  "nbformat_minor": 0,
  "metadata": {
    "colab": {
      "name": "END_Session3.ipynb",
      "provenance": [],
      "collapsed_sections": []
    },
    "kernelspec": {
      "name": "python3",
      "display_name": "Python 3"
    }
  },
  "cells": [
    {
      "cell_type": "code",
      "metadata": {
        "id": "U462uGwxCiei"
      },
      "source": [
        "import numpy as np"
      ],
      "execution_count": 1,
      "outputs": []
    },
    {
      "cell_type": "markdown",
      "metadata": {
        "id": "CuA-Mkv1p5NP"
      },
      "source": [
        "#### 1)Write a function using only list filter lambda that can tell whether a number is a Fibonacci number or not. You can use a pre-calculated list/dict to store fab numbers till 10000"
      ]
    },
    {
      "cell_type": "code",
      "metadata": {
        "id": "nk7G9spEC4h9"
      },
      "source": [
        "ref_nums = [0, 1]\n",
        "fib_nums = [0, 1]"
      ],
      "execution_count": 2,
      "outputs": []
    },
    {
      "cell_type": "code",
      "metadata": {
        "id": "k3NMFeqd0aEq",
        "outputId": "b26f02f3-23b0-4d64-fdbf-3b117b40c763",
        "colab": {
          "base_uri": "https://localhost:8080/"
        }
      },
      "source": [
        "while fib_nums[-1] <= 10000:\n",
        "  next_val = ref_nums[0] + ref_nums[1]\n",
        "  ref_nums[0] = ref_nums[1]\n",
        "  ref_nums[1] = next_val\n",
        "  fib_nums.append(next_val)\n",
        "\n",
        "print(fib_nums)"
      ],
      "execution_count": 3,
      "outputs": [
        {
          "output_type": "stream",
          "text": [
            "[0, 1, 1, 2, 3, 5, 8, 13, 21, 34, 55, 89, 144, 233, 377, 610, 987, 1597, 2584, 4181, 6765, 10946]\n"
          ],
          "name": "stdout"
        }
      ]
    },
    {
      "cell_type": "code",
      "metadata": {
        "id": "XQGIY4Nq09vl"
      },
      "source": [
        "isFibonacci = lambda x: True if x in fib_nums else False"
      ],
      "execution_count": 4,
      "outputs": []
    },
    {
      "cell_type": "code",
      "metadata": {
        "id": "5AuLouFi16G7",
        "outputId": "8439e25f-00f3-497f-ce58-2a65f856935f",
        "colab": {
          "base_uri": "https://localhost:8080/"
        }
      },
      "source": [
        "isFibonacci(56)"
      ],
      "execution_count": 5,
      "outputs": [
        {
          "output_type": "execute_result",
          "data": {
            "text/plain": [
              "False"
            ]
          },
          "metadata": {
            "tags": []
          },
          "execution_count": 5
        }
      ]
    },
    {
      "cell_type": "code",
      "metadata": {
        "id": "_35DoUTk2kR5",
        "outputId": "7ee7185d-0131-468a-efc3-cc80299d133f",
        "colab": {
          "base_uri": "https://localhost:8080/"
        }
      },
      "source": [
        "isFibonacci(233)"
      ],
      "execution_count": 6,
      "outputs": [
        {
          "output_type": "execute_result",
          "data": {
            "text/plain": [
              "True"
            ]
          },
          "metadata": {
            "tags": []
          },
          "execution_count": 6
        }
      ]
    },
    {
      "cell_type": "markdown",
      "metadata": {
        "id": "-AHvpiuMqBry"
      },
      "source": [
        "##### 2) a). Add 2 iterables a and b such that a is even and b is odd"
      ]
    },
    {
      "cell_type": "code",
      "metadata": {
        "id": "PnqCz3oJGWNj"
      },
      "source": [
        "a = [2, 4, 6, 8]\n",
        "b = [1, 3, 5, 7]\n",
        "\n",
        "abc = lambda a, b: [x + y for x, y in zip([e for e in a if e%2 == 0], [o for o in b if o%2 != 0])]"
      ],
      "execution_count": 7,
      "outputs": []
    },
    {
      "cell_type": "code",
      "metadata": {
        "id": "-os37akuJMbj",
        "outputId": "731b5a41-5d46-4cf0-cf85-922abad93ed3",
        "colab": {
          "base_uri": "https://localhost:8080/"
        }
      },
      "source": [
        "abc(a, b)"
      ],
      "execution_count": 8,
      "outputs": [
        {
          "output_type": "execute_result",
          "data": {
            "text/plain": [
              "[3, 7, 11, 15]"
            ]
          },
          "metadata": {
            "tags": []
          },
          "execution_count": 8
        }
      ]
    },
    {
      "cell_type": "code",
      "metadata": {
        "id": "PDlz3MsZJpY-",
        "outputId": "5e458a45-3daf-4ebf-a2ac-7bb8fd842591",
        "colab": {
          "base_uri": "https://localhost:8080/"
        }
      },
      "source": [
        "abc([1, 24, 3, 4, 5, 6, 7], [14, 7, 68, 77, 25, 24])"
      ],
      "execution_count": 9,
      "outputs": [
        {
          "output_type": "execute_result",
          "data": {
            "text/plain": [
              "[31, 81, 31]"
            ]
          },
          "metadata": {
            "tags": []
          },
          "execution_count": 9
        }
      ]
    },
    {
      "cell_type": "code",
      "metadata": {
        "id": "xBTspqwpKbuN",
        "outputId": "e1da24b3-3d39-436e-91c0-a269741e3146",
        "colab": {
          "base_uri": "https://localhost:8080/"
        }
      },
      "source": [
        "abc([2, 4, 6], [1, 3, 5])"
      ],
      "execution_count": 10,
      "outputs": [
        {
          "output_type": "execute_result",
          "data": {
            "text/plain": [
              "[3, 7, 11]"
            ]
          },
          "metadata": {
            "tags": []
          },
          "execution_count": 10
        }
      ]
    },
    {
      "cell_type": "markdown",
      "metadata": {
        "id": "olmqbXtSqL5P"
      },
      "source": [
        "##### 2) b) strips every vowel from a string provided "
      ]
    },
    {
      "cell_type": "code",
      "metadata": {
        "id": "-YL9RFjHNXxl"
      },
      "source": [
        "vowels = 'aeiou'\n",
        "novow = lambda x: \"\".join([i for i in x if i not in vowels])"
      ],
      "execution_count": 11,
      "outputs": []
    },
    {
      "cell_type": "code",
      "metadata": {
        "id": "cHYY_679Nbzj",
        "outputId": "3653f814-2934-4146-fa69-3811b2215056",
        "colab": {
          "base_uri": "https://localhost:8080/",
          "height": 35
        }
      },
      "source": [
        "novow('aigsjggj')"
      ],
      "execution_count": 12,
      "outputs": [
        {
          "output_type": "execute_result",
          "data": {
            "application/vnd.google.colaboratory.intrinsic+json": {
              "type": "string"
            },
            "text/plain": [
              "'gsjggj'"
            ]
          },
          "metadata": {
            "tags": []
          },
          "execution_count": 12
        }
      ]
    },
    {
      "cell_type": "code",
      "metadata": {
        "id": "1DXJX6f8NeOZ",
        "outputId": "11514528-ddf1-4b23-cb74-5aa5eeb8e138",
        "colab": {
          "base_uri": "https://localhost:8080/",
          "height": 35
        }
      },
      "source": [
        "novow('aeiou')"
      ],
      "execution_count": 13,
      "outputs": [
        {
          "output_type": "execute_result",
          "data": {
            "application/vnd.google.colaboratory.intrinsic+json": {
              "type": "string"
            },
            "text/plain": [
              "''"
            ]
          },
          "metadata": {
            "tags": []
          },
          "execution_count": 13
        }
      ]
    },
    {
      "cell_type": "markdown",
      "metadata": {
        "id": "9wc-YpZsqTsZ"
      },
      "source": [
        "##### 2) c) acts like a ReLU function for a 1D array"
      ]
    },
    {
      "cell_type": "code",
      "metadata": {
        "id": "CwMaYsSLOnHs",
        "outputId": "9783c42b-1d88-4bcd-f01c-98a88fc48716",
        "colab": {
          "base_uri": "https://localhost:8080/"
        }
      },
      "source": [
        "relu = lambda x: [i if i >= 0 else 0 for i in x]\n",
        "\n",
        "relu([1, 2, 7, -2, -3, 2, 6, 0])"
      ],
      "execution_count": 14,
      "outputs": [
        {
          "output_type": "execute_result",
          "data": {
            "text/plain": [
              "[1, 2, 7, 0, 0, 2, 6, 0]"
            ]
          },
          "metadata": {
            "tags": []
          },
          "execution_count": 14
        }
      ]
    },
    {
      "cell_type": "markdown",
      "metadata": {
        "id": "96Kgeqa5qaK9"
      },
      "source": [
        "##### 2) d) acts like a sigmoid function for a 1D array"
      ]
    },
    {
      "cell_type": "code",
      "metadata": {
        "id": "_x7nIFmHO6qq",
        "outputId": "168d205f-c892-44d7-ab1d-89c112512fc5",
        "colab": {
          "base_uri": "https://localhost:8080/"
        }
      },
      "source": [
        "sigmoid = lambda x : [1/(1 + np.exp(-ele)) for ele in x]\n",
        "sigmoid([99, 33, 45, 67, 8, 23, -45])"
      ],
      "execution_count": 15,
      "outputs": [
        {
          "output_type": "execute_result",
          "data": {
            "text/plain": [
              "[1.0,\n",
              " 0.9999999999999953,\n",
              " 1.0,\n",
              " 1.0,\n",
              " 0.9996646498695336,\n",
              " 0.9999999998973812,\n",
              " 2.8625185805493937e-20]"
            ]
          },
          "metadata": {
            "tags": []
          },
          "execution_count": 15
        }
      ]
    },
    {
      "cell_type": "markdown",
      "metadata": {
        "id": "viK-wd0-qgDC"
      },
      "source": [
        "##### 2) e) takes a small character string and shifts all characters by 5"
      ]
    },
    {
      "cell_type": "code",
      "metadata": {
        "id": "kbRlKKgtVTET"
      },
      "source": [
        "str_shift = lambda x: \"\".join([chr(ord(char) + 5) for char in x])"
      ],
      "execution_count": 16,
      "outputs": []
    },
    {
      "cell_type": "code",
      "metadata": {
        "id": "o3yIDkZ6Vvon",
        "outputId": "09536cb2-d8bc-470e-f421-bad39d8c7aed",
        "colab": {
          "base_uri": "https://localhost:8080/",
          "height": 35
        }
      },
      "source": [
        "str_shift('tsai')"
      ],
      "execution_count": 17,
      "outputs": [
        {
          "output_type": "execute_result",
          "data": {
            "application/vnd.google.colaboratory.intrinsic+json": {
              "type": "string"
            },
            "text/plain": [
              "'yxfn'"
            ]
          },
          "metadata": {
            "tags": []
          },
          "execution_count": 17
        }
      ]
    },
    {
      "cell_type": "code",
      "metadata": {
        "id": "DuS6vNGJoZka",
        "outputId": "06662cf8-124a-4e32-c7a7-903a8f1756cd",
        "colab": {
          "base_uri": "https://localhost:8080/",
          "height": 35
        }
      },
      "source": [
        "str_shift('abcde')"
      ],
      "execution_count": 18,
      "outputs": [
        {
          "output_type": "execute_result",
          "data": {
            "application/vnd.google.colaboratory.intrinsic+json": {
              "type": "string"
            },
            "text/plain": [
              "'fghij'"
            ]
          },
          "metadata": {
            "tags": []
          },
          "execution_count": 18
        }
      ]
    },
    {
      "cell_type": "markdown",
      "metadata": {
        "id": "WQHwD8KJqqzT"
      },
      "source": [
        "##### 3) A list comprehension expression that takes a ~200 word paragraph (write your own paragraph to check), and checks whether it has any of the swear words"
      ]
    },
    {
      "cell_type": "code",
      "metadata": {
        "id": "ylrX2w8Le1NK"
      },
      "source": [
        "with open('list.txt', 'r')as f:\n",
        "  lines = f.readlines()"
      ],
      "execution_count": 19,
      "outputs": []
    },
    {
      "cell_type": "code",
      "metadata": {
        "id": "y-pS5fuJgU74"
      },
      "source": [
        "new_lines = []\n",
        "for line in lines:\n",
        "  new_lines.append(line.rstrip())"
      ],
      "execution_count": 20,
      "outputs": []
    },
    {
      "cell_type": "code",
      "metadata": {
        "id": "T9kEZ_wGh8HM"
      },
      "source": [
        "sentence = 'There i am minding my own business, eating eggs and drinking coffee. Suddenly my neighbour went bloody mary on his wife'"
      ],
      "execution_count": 21,
      "outputs": []
    },
    {
      "cell_type": "code",
      "metadata": {
        "id": "_ZnsdTCsifVU"
      },
      "source": [
        "any = lambda x: True if [word for word in x.split() if word in new_lines] else False"
      ],
      "execution_count": 22,
      "outputs": []
    },
    {
      "cell_type": "code",
      "metadata": {
        "id": "qYbJQfEujOJ-",
        "outputId": "eb76fc24-ad1f-4eea-dd08-87696beb7c29",
        "colab": {
          "base_uri": "https://localhost:8080/"
        }
      },
      "source": [
        "any(sentence)"
      ],
      "execution_count": 23,
      "outputs": [
        {
          "output_type": "execute_result",
          "data": {
            "text/plain": [
              "True"
            ]
          },
          "metadata": {
            "tags": []
          },
          "execution_count": 23
        }
      ]
    },
    {
      "cell_type": "code",
      "metadata": {
        "id": "D38T9taZjhBF"
      },
      "source": [
        "new_sent = 'Mama always said life was like a box of chocolates. You never know what youre gonna get'"
      ],
      "execution_count": 24,
      "outputs": []
    },
    {
      "cell_type": "code",
      "metadata": {
        "id": "zw0-xsVymOUn",
        "outputId": "71139c27-e72f-44b1-ba5d-5ac789fc06cd",
        "colab": {
          "base_uri": "https://localhost:8080/"
        }
      },
      "source": [
        "any(new_sent)"
      ],
      "execution_count": 25,
      "outputs": [
        {
          "output_type": "execute_result",
          "data": {
            "text/plain": [
              "False"
            ]
          },
          "metadata": {
            "tags": []
          },
          "execution_count": 25
        }
      ]
    },
    {
      "cell_type": "markdown",
      "metadata": {
        "id": "3l5XZaXsqxZr"
      },
      "source": [
        "##### 4) a) Using reduce functions, add only even numbers in a list"
      ]
    },
    {
      "cell_type": "code",
      "metadata": {
        "id": "N28TvYuumQQ8",
        "outputId": "5015277f-d8c8-4c07-e7de-3d8f9c7a49eb",
        "colab": {
          "base_uri": "https://localhost:8080/"
        }
      },
      "source": [
        "from functools import reduce\n",
        "import random\n",
        "from random import randint\n",
        "\n",
        "evensum = lambda input : reduce(lambda a, b : a+b, [x for x in input if x%2==0])\n",
        "evensum([1, 2, 3, 4, 6, 8])"
      ],
      "execution_count": 26,
      "outputs": [
        {
          "output_type": "execute_result",
          "data": {
            "text/plain": [
              "20"
            ]
          },
          "metadata": {
            "tags": []
          },
          "execution_count": 26
        }
      ]
    },
    {
      "cell_type": "markdown",
      "metadata": {
        "id": "GxTgjlp1rXPO"
      },
      "source": [
        "#### 4) b) find the biggest character in a string (printable ascii characters)"
      ]
    },
    {
      "cell_type": "code",
      "metadata": {
        "id": "90tQAo_frFFY",
        "outputId": "0e2e91c2-dac3-459e-c798-2fff6d3df9dc",
        "colab": {
          "base_uri": "https://localhost:8080/",
          "height": 35
        }
      },
      "source": [
        "bigchar = lambda string : reduce(lambda a, b : a if a>b else b, [x for x in string if x.isprintable()])\n",
        "bigchar('excav@tion')"
      ],
      "execution_count": 27,
      "outputs": [
        {
          "output_type": "execute_result",
          "data": {
            "application/vnd.google.colaboratory.intrinsic+json": {
              "type": "string"
            },
            "text/plain": [
              "'x'"
            ]
          },
          "metadata": {
            "tags": []
          },
          "execution_count": 27
        }
      ]
    },
    {
      "cell_type": "code",
      "metadata": {
        "id": "5cbDtmC8rqEX",
        "outputId": "014698d2-15aa-48d5-cb2f-e39850a3bf21",
        "colab": {
          "base_uri": "https://localhost:8080/"
        }
      },
      "source": [
        "step_3_sum = lambda input:reduce(lambda a, b : a+b, [input[i] for i in range(2, len(input), 3)])\n",
        "step_3_sum([1, 4, 2, 6, 8, 9, 3])"
      ],
      "execution_count": 28,
      "outputs": [
        {
          "output_type": "execute_result",
          "data": {
            "text/plain": [
              "11"
            ]
          },
          "metadata": {
            "tags": []
          },
          "execution_count": 28
        }
      ]
    },
    {
      "cell_type": "markdown",
      "metadata": {
        "id": "SMHnnhTZsWHW"
      },
      "source": [
        "##### 5) Using randint, random.choice and list comprehensions, write an expression that generates 15 random KADDAADDDD number plates, where KA is fixed, D stands for a digit, and A stands for Capital alphabets. 10<<DD<<99 & 1000<<DDDD<<9999"
      ]
    },
    {
      "cell_type": "code",
      "metadata": {
        "id": "1xO_T5eFuGry"
      },
      "source": [
        "caps = 'ABCDEFGHIJKLMNOPQRSTUVWXYZ'\n",
        "CAP_LIST = []\n",
        "for cap in caps:\n",
        "  CAP_LIST.append(cap)\n"
      ],
      "execution_count": 29,
      "outputs": []
    },
    {
      "cell_type": "code",
      "metadata": {
        "id": "Fy7nkOCtuVyZ",
        "outputId": "a3d3c714-e52a-428b-acfe-b5ffbb7a055a",
        "colab": {
          "base_uri": "https://localhost:8080/"
        }
      },
      "source": [
        "['KA' + str(randint(10,99)) + random.choice(CAP_LIST) + random.choice(CAP_LIST) + str(randint(1000, 9999)) for x in range(15)]"
      ],
      "execution_count": 30,
      "outputs": [
        {
          "output_type": "execute_result",
          "data": {
            "text/plain": [
              "['KA79VX4303',\n",
              " 'KA67BX1237',\n",
              " 'KA86LH9329',\n",
              " 'KA70TM3864',\n",
              " 'KA28EB5885',\n",
              " 'KA60LW4537',\n",
              " 'KA40WR4715',\n",
              " 'KA13UI6744',\n",
              " 'KA34TC1931',\n",
              " 'KA57FT2373',\n",
              " 'KA20XN7432',\n",
              " 'KA78AM1105',\n",
              " 'KA11GJ3017',\n",
              " 'KA47IB6052',\n",
              " 'KA72JJ2135']"
            ]
          },
          "metadata": {
            "tags": []
          },
          "execution_count": 30
        }
      ]
    },
    {
      "cell_type": "markdown",
      "metadata": {
        "id": "jFtDiakbvP9G"
      },
      "source": [
        "##### 6) Write the above again from scratch where KA can be changed to DL, and 1000/9999 ranges can be provided"
      ]
    },
    {
      "cell_type": "code",
      "metadata": {
        "id": "snpJIZkxtgHz"
      },
      "source": [
        "plates = lambda base, low, high: [base + str(randint(10,99)) + random.choice(CAP_LIST) + random.choice(CAP_LIST) + str(randint(low, high)) for x in range(15)]"
      ],
      "execution_count": 31,
      "outputs": []
    },
    {
      "cell_type": "code",
      "metadata": {
        "id": "_ZDAbaVAvlGr",
        "outputId": "b38a3d77-98c9-4cf7-a5ed-1f1847a4bfe1",
        "colab": {
          "base_uri": "https://localhost:8080/"
        }
      },
      "source": [
        "plates('DL', 2000, 5000)"
      ],
      "execution_count": 32,
      "outputs": [
        {
          "output_type": "execute_result",
          "data": {
            "text/plain": [
              "['DL62CP4451',\n",
              " 'DL28DN2545',\n",
              " 'DL13SZ2208',\n",
              " 'DL62NX4805',\n",
              " 'DL58RQ2621',\n",
              " 'DL80IC3738',\n",
              " 'DL37CC2355',\n",
              " 'DL57QZ4872',\n",
              " 'DL37RR3003',\n",
              " 'DL68VR3684',\n",
              " 'DL56GZ2330',\n",
              " 'DL53GV2952',\n",
              " 'DL89IY2502',\n",
              " 'DL12OB2869',\n",
              " 'DL20UV2518']"
            ]
          },
          "metadata": {
            "tags": []
          },
          "execution_count": 32
        }
      ]
    },
    {
      "cell_type": "code",
      "metadata": {
        "id": "BcjR9ILovrif"
      },
      "source": [
        ""
      ],
      "execution_count": 32,
      "outputs": []
    }
  ]
}