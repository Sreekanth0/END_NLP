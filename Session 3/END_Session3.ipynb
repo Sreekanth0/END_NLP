{
  "nbformat": 4,
  "nbformat_minor": 0,
  "metadata": {
    "colab": {
      "name": "END_Session3.ipynb",
      "provenance": [],
      "collapsed_sections": []
    },
    "kernelspec": {
      "name": "python3",
      "display_name": "Python 3"
    }
  },
  "cells": [
    {
      "cell_type": "code",
      "metadata": {
        "id": "U462uGwxCiei"
      },
      "source": [
        "import numpy as np"
      ],
      "execution_count": null,
      "outputs": []
    },
    {
      "cell_type": "markdown",
      "metadata": {
        "id": "CuA-Mkv1p5NP"
      },
      "source": [
        "#### 1)Write a function using only list filter lambda that can tell whether a number is a Fibonacci number or not. You can use a pre-calculated list/dict to store fab numbers till 10000"
      ]
    },
    {
      "cell_type": "code",
      "metadata": {
        "id": "nk7G9spEC4h9"
      },
      "source": [
        "ref_nums = [0, 1]\n",
        "fib_nums = [0, 1]"
      ],
      "execution_count": null,
      "outputs": []
    },
    {
      "cell_type": "code",
      "metadata": {
        "id": "k3NMFeqd0aEq",
        "outputId": "eb09033d-3853-4a1d-8855-225a96e43f46",
        "colab": {
          "base_uri": "https://localhost:8080/"
        }
      },
      "source": [
        "while fib_nums[-1] <= 10000:\n",
        "  next_val = ref_nums[0] + ref_nums[1]\n",
        "  ref_nums[0] = ref_nums[1]\n",
        "  ref_nums[1] = next_val\n",
        "  fib_nums.append(next_val)\n",
        "\n",
        "print(fib_nums)"
      ],
      "execution_count": null,
      "outputs": [
        {
          "output_type": "stream",
          "text": [
            "[0, 1, 1, 2, 3, 5, 8, 13, 21, 34, 55, 89, 144, 233, 377, 610, 987, 1597, 2584, 4181, 6765, 10946]\n"
          ],
          "name": "stdout"
        }
      ]
    },
    {
      "cell_type": "code",
      "metadata": {
        "id": "XQGIY4Nq09vl"
      },
      "source": [
        "isFibonacci = lambda x: True if x in fib_nums else False"
      ],
      "execution_count": null,
      "outputs": []
    },
    {
      "cell_type": "code",
      "metadata": {
        "id": "5AuLouFi16G7",
        "outputId": "707e8417-6539-4016-baa9-a32f032517d6",
        "colab": {
          "base_uri": "https://localhost:8080/"
        }
      },
      "source": [
        "isFibonacci(56)"
      ],
      "execution_count": null,
      "outputs": [
        {
          "output_type": "execute_result",
          "data": {
            "text/plain": [
              "False"
            ]
          },
          "metadata": {
            "tags": []
          },
          "execution_count": 5
        }
      ]
    },
    {
      "cell_type": "code",
      "metadata": {
        "id": "_35DoUTk2kR5",
        "outputId": "7f3abfc0-0f7f-440a-c23f-88ceda88f9fc",
        "colab": {
          "base_uri": "https://localhost:8080/"
        }
      },
      "source": [
        "isFibonacci(233)"
      ],
      "execution_count": null,
      "outputs": [
        {
          "output_type": "execute_result",
          "data": {
            "text/plain": [
              "True"
            ]
          },
          "metadata": {
            "tags": []
          },
          "execution_count": 6
        }
      ]
    },
    {
      "cell_type": "markdown",
      "metadata": {
        "id": "-AHvpiuMqBry"
      },
      "source": [
        "##### 2) a). Add 2 iterables a and b such that a is even and b is odd"
      ]
    },
    {
      "cell_type": "code",
      "metadata": {
        "id": "PnqCz3oJGWNj"
      },
      "source": [
        "a = [2, 4, 6, 8]\n",
        "b = [1, 3, 5, 7]\n",
        "\n",
        "abc = lambda a, b: [x + y for x, y in zip([e for e in a if e%2 == 0], [o for o in b if o%2 != 0])]"
      ],
      "execution_count": null,
      "outputs": []
    },
    {
      "cell_type": "code",
      "metadata": {
        "id": "-os37akuJMbj",
        "outputId": "75f50088-eaf9-4b8f-9f0a-3a4b5d8e216e",
        "colab": {
          "base_uri": "https://localhost:8080/"
        }
      },
      "source": [
        "abc(a, b)"
      ],
      "execution_count": null,
      "outputs": [
        {
          "output_type": "execute_result",
          "data": {
            "text/plain": [
              "[3, 7, 11, 15]"
            ]
          },
          "metadata": {
            "tags": []
          },
          "execution_count": 8
        }
      ]
    },
    {
      "cell_type": "code",
      "metadata": {
        "id": "PDlz3MsZJpY-",
        "outputId": "62faff2a-2e48-479a-dd90-0ed7431bad03",
        "colab": {
          "base_uri": "https://localhost:8080/"
        }
      },
      "source": [
        "abc([1, 24, 3, 4, 5, 6, 7], [14, 7, 68, 77, 25, 24])"
      ],
      "execution_count": null,
      "outputs": [
        {
          "output_type": "execute_result",
          "data": {
            "text/plain": [
              "[31, 81, 31]"
            ]
          },
          "metadata": {
            "tags": []
          },
          "execution_count": 9
        }
      ]
    },
    {
      "cell_type": "code",
      "metadata": {
        "id": "xBTspqwpKbuN",
        "outputId": "9b6310b2-5509-41d4-c382-4b32cd62136e",
        "colab": {
          "base_uri": "https://localhost:8080/"
        }
      },
      "source": [
        "abc([2, 4, 6], [1, 3, 5])"
      ],
      "execution_count": null,
      "outputs": [
        {
          "output_type": "execute_result",
          "data": {
            "text/plain": [
              "[3, 7, 11]"
            ]
          },
          "metadata": {
            "tags": []
          },
          "execution_count": 10
        }
      ]
    },
    {
      "cell_type": "markdown",
      "metadata": {
        "id": "olmqbXtSqL5P"
      },
      "source": [
        "##### 2) b) strips every vowel from a string provided "
      ]
    },
    {
      "cell_type": "code",
      "metadata": {
        "id": "-YL9RFjHNXxl"
      },
      "source": [
        "vowels = 'aeiou'\n",
        "novow = lambda x: \"\".join([i for i in x if i not in vowels])"
      ],
      "execution_count": null,
      "outputs": []
    },
    {
      "cell_type": "code",
      "metadata": {
        "id": "cHYY_679Nbzj",
        "outputId": "f99374c1-bd2f-481f-8c7c-02372c9bc6bf",
        "colab": {
          "base_uri": "https://localhost:8080/",
          "height": 35
        }
      },
      "source": [
        "novow('aigsjggj')"
      ],
      "execution_count": null,
      "outputs": [
        {
          "output_type": "execute_result",
          "data": {
            "application/vnd.google.colaboratory.intrinsic+json": {
              "type": "string"
            },
            "text/plain": [
              "'gsjggj'"
            ]
          },
          "metadata": {
            "tags": []
          },
          "execution_count": 12
        }
      ]
    },
    {
      "cell_type": "code",
      "metadata": {
        "id": "1DXJX6f8NeOZ",
        "outputId": "48901757-0f13-4c97-a358-c293829d5289",
        "colab": {
          "base_uri": "https://localhost:8080/",
          "height": 35
        }
      },
      "source": [
        "novow('aeiou')"
      ],
      "execution_count": null,
      "outputs": [
        {
          "output_type": "execute_result",
          "data": {
            "application/vnd.google.colaboratory.intrinsic+json": {
              "type": "string"
            },
            "text/plain": [
              "''"
            ]
          },
          "metadata": {
            "tags": []
          },
          "execution_count": 13
        }
      ]
    },
    {
      "cell_type": "markdown",
      "metadata": {
        "id": "9wc-YpZsqTsZ"
      },
      "source": [
        "##### 2) c) acts like a ReLU function for a 1D array"
      ]
    },
    {
      "cell_type": "code",
      "metadata": {
        "id": "CwMaYsSLOnHs",
        "outputId": "cdd5016b-82e1-4302-e416-b12604b5305d",
        "colab": {
          "base_uri": "https://localhost:8080/"
        }
      },
      "source": [
        "relu = lambda x: [i if i >= 0 else 0 for i in x]\n",
        "\n",
        "relu([1, 2, 7, -2, -3, 2, 6, 0])"
      ],
      "execution_count": null,
      "outputs": [
        {
          "output_type": "execute_result",
          "data": {
            "text/plain": [
              "[1, 2, 7, 0, 0, 2, 6, 0]"
            ]
          },
          "metadata": {
            "tags": []
          },
          "execution_count": 14
        }
      ]
    },
    {
      "cell_type": "markdown",
      "metadata": {
        "id": "96Kgeqa5qaK9"
      },
      "source": [
        "##### 2) d) acts like a sigmoid function for a 1D array"
      ]
    },
    {
      "cell_type": "code",
      "metadata": {
        "id": "_x7nIFmHO6qq",
        "outputId": "e701d782-9623-4a50-fb43-7d260a4d9427",
        "colab": {
          "base_uri": "https://localhost:8080/"
        }
      },
      "source": [
        "sigmoid = lambda x : [1/(1 + np.exp(-ele)) for ele in x]\n",
        "sigmoid([99, 33, 45, 67, 8, 23, -45])"
      ],
      "execution_count": null,
      "outputs": [
        {
          "output_type": "execute_result",
          "data": {
            "text/plain": [
              "[1.0,\n",
              " 0.9999999999999953,\n",
              " 1.0,\n",
              " 1.0,\n",
              " 0.9996646498695336,\n",
              " 0.9999999998973812,\n",
              " 2.8625185805493937e-20]"
            ]
          },
          "metadata": {
            "tags": []
          },
          "execution_count": 15
        }
      ]
    },
    {
      "cell_type": "markdown",
      "metadata": {
        "id": "viK-wd0-qgDC"
      },
      "source": [
        "##### 2) e) takes a small character string and shifts all characters by 5"
      ]
    },
    {
      "cell_type": "code",
      "metadata": {
        "id": "kbRlKKgtVTET"
      },
      "source": [
        "str_shift = lambda x: \"\".join([chr(ord(char) + 5) for char in x])"
      ],
      "execution_count": null,
      "outputs": []
    },
    {
      "cell_type": "code",
      "metadata": {
        "id": "o3yIDkZ6Vvon",
        "outputId": "f74b47e8-7afc-4736-fe8d-d867397543f2",
        "colab": {
          "base_uri": "https://localhost:8080/",
          "height": 35
        }
      },
      "source": [
        "str_shift('tsai')"
      ],
      "execution_count": null,
      "outputs": [
        {
          "output_type": "execute_result",
          "data": {
            "application/vnd.google.colaboratory.intrinsic+json": {
              "type": "string"
            },
            "text/plain": [
              "'yxfn'"
            ]
          },
          "metadata": {
            "tags": []
          },
          "execution_count": 17
        }
      ]
    },
    {
      "cell_type": "code",
      "metadata": {
        "id": "DuS6vNGJoZka",
        "outputId": "8f051d4d-67d7-4431-b5a9-3aef5f597ac1",
        "colab": {
          "base_uri": "https://localhost:8080/",
          "height": 35
        }
      },
      "source": [
        "str_shift('abcde')"
      ],
      "execution_count": null,
      "outputs": [
        {
          "output_type": "execute_result",
          "data": {
            "application/vnd.google.colaboratory.intrinsic+json": {
              "type": "string"
            },
            "text/plain": [
              "'fghij'"
            ]
          },
          "metadata": {
            "tags": []
          },
          "execution_count": 18
        }
      ]
    },
    {
      "cell_type": "markdown",
      "metadata": {
        "id": "WQHwD8KJqqzT"
      },
      "source": [
        "##### 3) A list comprehension expression that takes a ~200 word paragraph (write your own paragraph to check), and checks whether it has any of the swear words"
      ]
    },
    {
      "cell_type": "code",
      "metadata": {
        "id": "ylrX2w8Le1NK",
        "outputId": "80984d80-ce81-4c80-c4b9-d5fc52bad77f",
        "colab": {
          "base_uri": "https://localhost:8080/"
        }
      },
      "source": [
        "with open('list.txt', 'r')as f:\n",
        "  lines = f.readlines()\n",
        "\n",
        "print(lines)"
      ],
      "execution_count": null,
      "outputs": [
        {
          "output_type": "stream",
          "text": [
            "['4r5e\\n', '5h1t\\n', '5hit\\n', 'a55\\n', 'anal\\n', 'anus\\n', 'ar5e\\n', 'arrse\\n', 'arse\\n', 'ass\\n', 'ass-fucker\\n', 'asses\\n', 'assfucker\\n', 'assfukka\\n', 'asshole\\n', 'assholes\\n', 'asswhole\\n', 'a_s_s\\n', 'b!tch\\n', 'b00bs\\n', 'b17ch\\n', 'b1tch\\n', 'ballbag\\n', 'balls\\n', 'ballsack\\n', 'bastard\\n', 'beastial\\n', 'beastiality\\n', 'bellend\\n', 'bestial\\n', 'bestiality\\n', 'bi+ch\\n', 'biatch\\n', 'bitch\\n', 'bitcher\\n', 'bitchers\\n', 'bitches\\n', 'bitchin\\n', 'bitching\\n', 'bloody\\n', 'blow job\\n', 'blowjob\\n', 'blowjobs\\n', 'boiolas\\n', 'bollock\\n', 'bollok\\n', 'boner\\n', 'boob\\n', 'boobs\\n', 'booobs\\n', 'boooobs\\n', 'booooobs\\n', 'booooooobs\\n', 'breasts\\n', 'buceta\\n', 'bugger\\n', 'bum\\n', 'bunny fucker\\n', 'butt\\n', 'butthole\\n', 'buttmunch\\n', 'buttplug\\n', 'c0ck\\n', 'c0cksucker\\n', 'carpet muncher\\n', 'cawk\\n', 'chink\\n', 'cipa\\n', 'cl1t\\n', 'clit\\n', 'clitoris\\n', 'clits\\n', 'cnut\\n', 'cock\\n', 'cock-sucker\\n', 'cockface\\n', 'cockhead\\n', 'cockmunch\\n', 'cockmuncher\\n', 'cocks\\n', 'cocksuck \\n', 'cocksucked \\n', 'cocksucker\\n', 'cocksucking\\n', 'cocksucks \\n', 'cocksuka\\n', 'cocksukka\\n', 'cok\\n', 'cokmuncher\\n', 'coksucka\\n', 'coon\\n', 'cox\\n', 'crap\\n', 'cum\\n', 'cummer\\n', 'cumming\\n', 'cums\\n', 'cumshot\\n', 'cunilingus\\n', 'cunillingus\\n', 'cunnilingus\\n', 'cunt\\n', 'cuntlick \\n', 'cuntlicker \\n', 'cuntlicking \\n', 'cunts\\n', 'cyalis\\n', 'cyberfuc\\n', 'cyberfuck \\n', 'cyberfucked \\n', 'cyberfucker\\n', 'cyberfuckers\\n', 'cyberfucking \\n', 'd1ck\\n', 'damn\\n', 'dick\\n', 'dickhead\\n', 'dildo\\n', 'dildos\\n', 'dink\\n', 'dinks\\n', 'dirsa\\n', 'dlck\\n', 'dog-fucker\\n', 'doggin\\n', 'dogging\\n', 'donkeyribber\\n', 'doosh\\n', 'duche\\n', 'dyke\\n', 'ejaculate\\n', 'ejaculated\\n', 'ejaculates \\n', 'ejaculating \\n', 'ejaculatings\\n', 'ejaculation\\n', 'ejakulate\\n', 'f u c k\\n', 'f u c k e r\\n', 'f4nny\\n', 'fag\\n', 'fagging\\n', 'faggitt\\n', 'faggot\\n', 'faggs\\n', 'fagot\\n', 'fagots\\n', 'fags\\n', 'fanny\\n', 'fannyflaps\\n', 'fannyfucker\\n', 'fanyy\\n', 'fatass\\n', 'fcuk\\n', 'fcuker\\n', 'fcuking\\n', 'feck\\n', 'fecker\\n', 'felching\\n', 'fellate\\n', 'fellatio\\n', 'fingerfuck \\n', 'fingerfucked \\n', 'fingerfucker \\n', 'fingerfuckers\\n', 'fingerfucking \\n', 'fingerfucks \\n', 'fistfuck\\n', 'fistfucked \\n', 'fistfucker \\n', 'fistfuckers \\n', 'fistfucking \\n', 'fistfuckings \\n', 'fistfucks \\n', 'flange\\n', 'fook\\n', 'fooker\\n', 'fuck\\n', 'fucka\\n', 'fucked\\n', 'fucker\\n', 'fuckers\\n', 'fuckhead\\n', 'fuckheads\\n', 'fuckin\\n', 'fucking\\n', 'fuckings\\n', 'fuckingshitmotherfucker\\n', 'fuckme \\n', 'fucks\\n', 'fuckwhit\\n', 'fuckwit\\n', 'fudge packer\\n', 'fudgepacker\\n', 'fuk\\n', 'fuker\\n', 'fukker\\n', 'fukkin\\n', 'fuks\\n', 'fukwhit\\n', 'fukwit\\n', 'fux\\n', 'fux0r\\n', 'f_u_c_k\\n', 'gangbang\\n', 'gangbanged \\n', 'gangbangs \\n', 'gaylord\\n', 'gaysex\\n', 'goatse\\n', 'God\\n', 'god-dam\\n', 'god-damned\\n', 'goddamn\\n', 'goddamned\\n', 'hardcoresex \\n', 'hell\\n', 'heshe\\n', 'hoar\\n', 'hoare\\n', 'hoer\\n', 'homo\\n', 'hore\\n', 'horniest\\n', 'horny\\n', 'hotsex\\n', 'jack-off \\n', 'jackoff\\n', 'jap\\n', 'jerk-off \\n', 'jism\\n', 'jiz \\n', 'jizm \\n', 'jizz\\n', 'kawk\\n', 'knob\\n', 'knobead\\n', 'knobed\\n', 'knobend\\n', 'knobhead\\n', 'knobjocky\\n', 'knobjokey\\n', 'kock\\n', 'kondum\\n', 'kondums\\n', 'kum\\n', 'kummer\\n', 'kumming\\n', 'kums\\n', 'kunilingus\\n', 'l3i+ch\\n', 'l3itch\\n', 'labia\\n', 'lmfao\\n', 'lust\\n', 'lusting\\n', 'm0f0\\n', 'm0fo\\n', 'm45terbate\\n', 'ma5terb8\\n', 'ma5terbate\\n', 'masochist\\n', 'master-bate\\n', 'masterb8\\n', 'masterbat*\\n', 'masterbat3\\n', 'masterbate\\n', 'masterbation\\n', 'masterbations\\n', 'masturbate\\n', 'mo-fo\\n', 'mof0\\n', 'mofo\\n', 'mothafuck\\n', 'mothafucka\\n', 'mothafuckas\\n', 'mothafuckaz\\n', 'mothafucked \\n', 'mothafucker\\n', 'mothafuckers\\n', 'mothafuckin\\n', 'mothafucking \\n', 'mothafuckings\\n', 'mothafucks\\n', 'mother fucker\\n', 'motherfuck\\n', 'motherfucked\\n', 'motherfucker\\n', 'motherfuckers\\n', 'motherfuckin\\n', 'motherfucking\\n', 'motherfuckings\\n', 'motherfuckka\\n', 'motherfucks\\n', 'muff\\n', 'mutha\\n', 'muthafecker\\n', 'muthafuckker\\n', 'muther\\n', 'mutherfucker\\n', 'n1gga\\n', 'n1gger\\n', 'nazi\\n', 'nigg3r\\n', 'nigg4h\\n', 'nigga\\n', 'niggah\\n', 'niggas\\n', 'niggaz\\n', 'nigger\\n', 'niggers \\n', 'nob\\n', 'nob jokey\\n', 'nobhead\\n', 'nobjocky\\n', 'nobjokey\\n', 'numbnuts\\n', 'nutsack\\n', 'orgasim \\n', 'orgasims \\n', 'orgasm\\n', 'orgasms \\n', 'p0rn\\n', 'pawn\\n', 'pecker\\n', 'penis\\n', 'penisfucker\\n', 'phonesex\\n', 'phuck\\n', 'phuk\\n', 'phuked\\n', 'phuking\\n', 'phukked\\n', 'phukking\\n', 'phuks\\n', 'phuq\\n', 'pigfucker\\n', 'pimpis\\n', 'piss\\n', 'pissed\\n', 'pisser\\n', 'pissers\\n', 'pisses \\n', 'pissflaps\\n', 'pissin \\n', 'pissing\\n', 'pissoff \\n', 'poop\\n', 'porn\\n', 'porno\\n', 'pornography\\n', 'pornos\\n', 'prick\\n', 'pricks \\n', 'pron\\n', 'pube\\n', 'pusse\\n', 'pussi\\n', 'pussies\\n', 'pussy\\n', 'pussys \\n', 'rectum\\n', 'retard\\n', 'rimjaw\\n', 'rimming\\n', 's hit\\n', 's.o.b.\\n', 'sadist\\n', 'schlong\\n', 'screwing\\n', 'scroat\\n', 'scrote\\n', 'scrotum\\n', 'semen\\n', 'sex\\n', 'sh!+\\n', 'sh!t\\n', 'sh1t\\n', 'shag\\n', 'shagger\\n', 'shaggin\\n', 'shagging\\n', 'shemale\\n', 'shi+\\n', 'shit\\n', 'shitdick\\n', 'shite\\n', 'shited\\n', 'shitey\\n', 'shitfuck\\n', 'shitfull\\n', 'shithead\\n', 'shiting\\n', 'shitings\\n', 'shits\\n', 'shitted\\n', 'shitter\\n', 'shitters \\n', 'shitting\\n', 'shittings\\n', 'shitty \\n', 'skank\\n', 'slut\\n', 'sluts\\n', 'smegma\\n', 'smut\\n', 'snatch\\n', 'son-of-a-bitch\\n', 'spac\\n', 'spunk\\n', 's_h_i_t\\n', 't1tt1e5\\n', 't1tties\\n', 'teets\\n', 'teez\\n', 'testical\\n', 'testicle\\n', 'tit\\n', 'titfuck\\n', 'tits\\n', 'titt\\n', 'tittie5\\n', 'tittiefucker\\n', 'titties\\n', 'tittyfuck\\n', 'tittywank\\n', 'titwank\\n', 'tosser\\n', 'turd\\n', 'tw4t\\n', 'twat\\n', 'twathead\\n', 'twatty\\n', 'twunt\\n', 'twunter\\n', 'v14gra\\n', 'v1gra\\n', 'vagina\\n', 'viagra\\n', 'vulva\\n', 'w00se\\n', 'wang\\n', 'wank\\n', 'wanker\\n', 'wanky\\n', 'whoar\\n', 'whore\\n', 'willies\\n', 'willy\\n', 'xrated\\n', 'xxx']\n"
          ],
          "name": "stdout"
        }
      ]
    },
    {
      "cell_type": "code",
      "metadata": {
        "id": "y-pS5fuJgU74",
        "outputId": "3eb10653-191d-4ce7-8656-62dff97c3386",
        "colab": {
          "base_uri": "https://localhost:8080/"
        }
      },
      "source": [
        "new_lines = []\n",
        "for line in lines:\n",
        "  new_lines.append(line.rstrip())\n",
        "\n",
        "print(new_lines)"
      ],
      "execution_count": null,
      "outputs": [
        {
          "output_type": "stream",
          "text": [
            "['4r5e', '5h1t', '5hit', 'a55', 'anal', 'anus', 'ar5e', 'arrse', 'arse', 'ass', 'ass-fucker', 'asses', 'assfucker', 'assfukka', 'asshole', 'assholes', 'asswhole', 'a_s_s', 'b!tch', 'b00bs', 'b17ch', 'b1tch', 'ballbag', 'balls', 'ballsack', 'bastard', 'beastial', 'beastiality', 'bellend', 'bestial', 'bestiality', 'bi+ch', 'biatch', 'bitch', 'bitcher', 'bitchers', 'bitches', 'bitchin', 'bitching', 'bloody', 'blow job', 'blowjob', 'blowjobs', 'boiolas', 'bollock', 'bollok', 'boner', 'boob', 'boobs', 'booobs', 'boooobs', 'booooobs', 'booooooobs', 'breasts', 'buceta', 'bugger', 'bum', 'bunny fucker', 'butt', 'butthole', 'buttmunch', 'buttplug', 'c0ck', 'c0cksucker', 'carpet muncher', 'cawk', 'chink', 'cipa', 'cl1t', 'clit', 'clitoris', 'clits', 'cnut', 'cock', 'cock-sucker', 'cockface', 'cockhead', 'cockmunch', 'cockmuncher', 'cocks', 'cocksuck', 'cocksucked', 'cocksucker', 'cocksucking', 'cocksucks', 'cocksuka', 'cocksukka', 'cok', 'cokmuncher', 'coksucka', 'coon', 'cox', 'crap', 'cum', 'cummer', 'cumming', 'cums', 'cumshot', 'cunilingus', 'cunillingus', 'cunnilingus', 'cunt', 'cuntlick', 'cuntlicker', 'cuntlicking', 'cunts', 'cyalis', 'cyberfuc', 'cyberfuck', 'cyberfucked', 'cyberfucker', 'cyberfuckers', 'cyberfucking', 'd1ck', 'damn', 'dick', 'dickhead', 'dildo', 'dildos', 'dink', 'dinks', 'dirsa', 'dlck', 'dog-fucker', 'doggin', 'dogging', 'donkeyribber', 'doosh', 'duche', 'dyke', 'ejaculate', 'ejaculated', 'ejaculates', 'ejaculating', 'ejaculatings', 'ejaculation', 'ejakulate', 'f u c k', 'f u c k e r', 'f4nny', 'fag', 'fagging', 'faggitt', 'faggot', 'faggs', 'fagot', 'fagots', 'fags', 'fanny', 'fannyflaps', 'fannyfucker', 'fanyy', 'fatass', 'fcuk', 'fcuker', 'fcuking', 'feck', 'fecker', 'felching', 'fellate', 'fellatio', 'fingerfuck', 'fingerfucked', 'fingerfucker', 'fingerfuckers', 'fingerfucking', 'fingerfucks', 'fistfuck', 'fistfucked', 'fistfucker', 'fistfuckers', 'fistfucking', 'fistfuckings', 'fistfucks', 'flange', 'fook', 'fooker', 'fuck', 'fucka', 'fucked', 'fucker', 'fuckers', 'fuckhead', 'fuckheads', 'fuckin', 'fucking', 'fuckings', 'fuckingshitmotherfucker', 'fuckme', 'fucks', 'fuckwhit', 'fuckwit', 'fudge packer', 'fudgepacker', 'fuk', 'fuker', 'fukker', 'fukkin', 'fuks', 'fukwhit', 'fukwit', 'fux', 'fux0r', 'f_u_c_k', 'gangbang', 'gangbanged', 'gangbangs', 'gaylord', 'gaysex', 'goatse', 'God', 'god-dam', 'god-damned', 'goddamn', 'goddamned', 'hardcoresex', 'hell', 'heshe', 'hoar', 'hoare', 'hoer', 'homo', 'hore', 'horniest', 'horny', 'hotsex', 'jack-off', 'jackoff', 'jap', 'jerk-off', 'jism', 'jiz', 'jizm', 'jizz', 'kawk', 'knob', 'knobead', 'knobed', 'knobend', 'knobhead', 'knobjocky', 'knobjokey', 'kock', 'kondum', 'kondums', 'kum', 'kummer', 'kumming', 'kums', 'kunilingus', 'l3i+ch', 'l3itch', 'labia', 'lmfao', 'lust', 'lusting', 'm0f0', 'm0fo', 'm45terbate', 'ma5terb8', 'ma5terbate', 'masochist', 'master-bate', 'masterb8', 'masterbat*', 'masterbat3', 'masterbate', 'masterbation', 'masterbations', 'masturbate', 'mo-fo', 'mof0', 'mofo', 'mothafuck', 'mothafucka', 'mothafuckas', 'mothafuckaz', 'mothafucked', 'mothafucker', 'mothafuckers', 'mothafuckin', 'mothafucking', 'mothafuckings', 'mothafucks', 'mother fucker', 'motherfuck', 'motherfucked', 'motherfucker', 'motherfuckers', 'motherfuckin', 'motherfucking', 'motherfuckings', 'motherfuckka', 'motherfucks', 'muff', 'mutha', 'muthafecker', 'muthafuckker', 'muther', 'mutherfucker', 'n1gga', 'n1gger', 'nazi', 'nigg3r', 'nigg4h', 'nigga', 'niggah', 'niggas', 'niggaz', 'nigger', 'niggers', 'nob', 'nob jokey', 'nobhead', 'nobjocky', 'nobjokey', 'numbnuts', 'nutsack', 'orgasim', 'orgasims', 'orgasm', 'orgasms', 'p0rn', 'pawn', 'pecker', 'penis', 'penisfucker', 'phonesex', 'phuck', 'phuk', 'phuked', 'phuking', 'phukked', 'phukking', 'phuks', 'phuq', 'pigfucker', 'pimpis', 'piss', 'pissed', 'pisser', 'pissers', 'pisses', 'pissflaps', 'pissin', 'pissing', 'pissoff', 'poop', 'porn', 'porno', 'pornography', 'pornos', 'prick', 'pricks', 'pron', 'pube', 'pusse', 'pussi', 'pussies', 'pussy', 'pussys', 'rectum', 'retard', 'rimjaw', 'rimming', 's hit', 's.o.b.', 'sadist', 'schlong', 'screwing', 'scroat', 'scrote', 'scrotum', 'semen', 'sex', 'sh!+', 'sh!t', 'sh1t', 'shag', 'shagger', 'shaggin', 'shagging', 'shemale', 'shi+', 'shit', 'shitdick', 'shite', 'shited', 'shitey', 'shitfuck', 'shitfull', 'shithead', 'shiting', 'shitings', 'shits', 'shitted', 'shitter', 'shitters', 'shitting', 'shittings', 'shitty', 'skank', 'slut', 'sluts', 'smegma', 'smut', 'snatch', 'son-of-a-bitch', 'spac', 'spunk', 's_h_i_t', 't1tt1e5', 't1tties', 'teets', 'teez', 'testical', 'testicle', 'tit', 'titfuck', 'tits', 'titt', 'tittie5', 'tittiefucker', 'titties', 'tittyfuck', 'tittywank', 'titwank', 'tosser', 'turd', 'tw4t', 'twat', 'twathead', 'twatty', 'twunt', 'twunter', 'v14gra', 'v1gra', 'vagina', 'viagra', 'vulva', 'w00se', 'wang', 'wank', 'wanker', 'wanky', 'whoar', 'whore', 'willies', 'willy', 'xrated', 'xxx']\n"
          ],
          "name": "stdout"
        }
      ]
    },
    {
      "cell_type": "code",
      "metadata": {
        "id": "4OJk76rHgoEs",
        "outputId": "3e5f163b-5849-4fd1-d98d-631ac8f0edba",
        "colab": {
          "base_uri": "https://localhost:8080/"
        }
      },
      "source": [
        "sentence = 'If you actually care abo. dds dsdsd. If you fuck actually car'\n",
        "words_in_para = [word for word in sentence.split()]\n",
        "print(words_in_para)"
      ],
      "execution_count": null,
      "outputs": [
        {
          "output_type": "stream",
          "text": [
            "['If', 'you', 'actually', 'care', 'abo.', 'dds', 'dsdsd.', 'If', 'you', 'fuck', 'actually', 'car']\n"
          ],
          "name": "stdout"
        }
      ]
    },
    {
      "cell_type": "code",
      "metadata": {
        "id": "68RYU2pig1FA",
        "outputId": "bb7ff3c4-c2e0-4594-9a11-1a9b908d71c7",
        "colab": {
          "base_uri": "https://localhost:8080/"
        }
      },
      "source": [
        "[word for word in words_in_para if word in new_lines]"
      ],
      "execution_count": null,
      "outputs": [
        {
          "output_type": "execute_result",
          "data": {
            "text/plain": [
              "['fuck']"
            ]
          },
          "metadata": {
            "tags": []
          },
          "execution_count": 22
        }
      ]
    },
    {
      "cell_type": "code",
      "metadata": {
        "id": "T9kEZ_wGh8HM"
      },
      "source": [
        "sentence = 'There i am minding my own business, eating eggs and drinking coffee. Suddenly my neighbour went bloody mary on his wife'"
      ],
      "execution_count": null,
      "outputs": []
    },
    {
      "cell_type": "code",
      "metadata": {
        "id": "_ZnsdTCsifVU"
      },
      "source": [
        "any = lambda x: True if [word for word in x.split() if word in new_lines] else False"
      ],
      "execution_count": null,
      "outputs": []
    },
    {
      "cell_type": "code",
      "metadata": {
        "id": "qYbJQfEujOJ-",
        "outputId": "edd0b183-7733-4145-97dc-f10ca4408d2c",
        "colab": {
          "base_uri": "https://localhost:8080/"
        }
      },
      "source": [
        "any(sentence)"
      ],
      "execution_count": null,
      "outputs": [
        {
          "output_type": "execute_result",
          "data": {
            "text/plain": [
              "True"
            ]
          },
          "metadata": {
            "tags": []
          },
          "execution_count": 25
        }
      ]
    },
    {
      "cell_type": "code",
      "metadata": {
        "id": "D38T9taZjhBF"
      },
      "source": [
        "new_sent = 'Mama always said life was like a box of chocolates. You never know what youre gonna get'"
      ],
      "execution_count": null,
      "outputs": []
    },
    {
      "cell_type": "code",
      "metadata": {
        "id": "zw0-xsVymOUn",
        "outputId": "1c48cfa6-38dc-44ab-fd09-d08498fa8bca",
        "colab": {
          "base_uri": "https://localhost:8080/"
        }
      },
      "source": [
        "any(new_sent)"
      ],
      "execution_count": null,
      "outputs": [
        {
          "output_type": "execute_result",
          "data": {
            "text/plain": [
              "False"
            ]
          },
          "metadata": {
            "tags": []
          },
          "execution_count": 27
        }
      ]
    },
    {
      "cell_type": "markdown",
      "metadata": {
        "id": "3l5XZaXsqxZr"
      },
      "source": [
        "##### 4) a) Using reduce functions, add only even numbers in a list"
      ]
    },
    {
      "cell_type": "code",
      "metadata": {
        "id": "N28TvYuumQQ8",
        "outputId": "0dc39a67-545b-4a68-ab3d-2f9795aea78a",
        "colab": {
          "base_uri": "https://localhost:8080/"
        }
      },
      "source": [
        "from functools import reduce\n",
        "import random\n",
        "from random import randint\n",
        "\n",
        "evensum = lambda input : reduce(lambda a, b : a+b, [x for x in input if x%2==0])\n",
        "evensum([1, 2, 3, 4, 6, 8])"
      ],
      "execution_count": null,
      "outputs": [
        {
          "output_type": "execute_result",
          "data": {
            "text/plain": [
              "20"
            ]
          },
          "metadata": {
            "tags": []
          },
          "execution_count": 28
        }
      ]
    },
    {
      "cell_type": "markdown",
      "metadata": {
        "id": "GxTgjlp1rXPO"
      },
      "source": [
        "#### 4) b) find the biggest character in a string (printable ascii characters)"
      ]
    },
    {
      "cell_type": "code",
      "metadata": {
        "id": "90tQAo_frFFY",
        "outputId": "c122ee73-3c18-4844-b2ff-e7ccd76f1e74",
        "colab": {
          "base_uri": "https://localhost:8080/",
          "height": 35
        }
      },
      "source": [
        "bigchar = lambda string : reduce(lambda a, b : a if a>b else b, [x for x in string if x.isprintable()])\n",
        "bigchar('excav@tion')"
      ],
      "execution_count": null,
      "outputs": [
        {
          "output_type": "execute_result",
          "data": {
            "application/vnd.google.colaboratory.intrinsic+json": {
              "type": "string"
            },
            "text/plain": [
              "'x'"
            ]
          },
          "metadata": {
            "tags": []
          },
          "execution_count": 29
        }
      ]
    },
    {
      "cell_type": "code",
      "metadata": {
        "id": "5cbDtmC8rqEX",
        "outputId": "8ba51922-5af5-4b05-a0c6-1ca43348c745",
        "colab": {
          "base_uri": "https://localhost:8080/"
        }
      },
      "source": [
        "step_3_sum = lambda input:reduce(lambda a, b : a+b, [input[i] for i in range(2, len(input), 3)])\n",
        "step_3_sum([1, 4, 2, 6, 8, 9, 3])"
      ],
      "execution_count": null,
      "outputs": [
        {
          "output_type": "execute_result",
          "data": {
            "text/plain": [
              "11"
            ]
          },
          "metadata": {
            "tags": []
          },
          "execution_count": 30
        }
      ]
    },
    {
      "cell_type": "markdown",
      "metadata": {
        "id": "SMHnnhTZsWHW"
      },
      "source": [
        "##### 5) Using randint, random.choice and list comprehensions, write an expression that generates 15 random KADDAADDDD number plates, where KA is fixed, D stands for a digit, and A stands for Capital alphabets. 10<<DD<<99 & 1000<<DDDD<<9999"
      ]
    },
    {
      "cell_type": "code",
      "metadata": {
        "id": "1xO_T5eFuGry"
      },
      "source": [
        "caps = 'ABCDEFGHIJKLMNOPQRSTUVWXYZ'\n",
        "CAP_LIST = []\n",
        "for cap in caps:\n",
        "  CAP_LIST.append(cap)\n"
      ],
      "execution_count": null,
      "outputs": []
    },
    {
      "cell_type": "code",
      "metadata": {
        "id": "Fy7nkOCtuVyZ",
        "outputId": "97987abd-b2fa-4e84-ec94-9f4d97ddf0e2",
        "colab": {
          "base_uri": "https://localhost:8080/"
        }
      },
      "source": [
        "['KA' + str(randint(10,99)) + random.choice(CAP_LIST) + random.choice(CAP_LIST) + str(randint(1000, 9999)) for x in range(15)]"
      ],
      "execution_count": null,
      "outputs": [
        {
          "output_type": "execute_result",
          "data": {
            "text/plain": [
              "['KA75AO4491',\n",
              " 'KA50GL7418',\n",
              " 'KA88ND1428',\n",
              " 'KA87VF7432',\n",
              " 'KA80DU5642',\n",
              " 'KA67MM9846',\n",
              " 'KA75ZF6769',\n",
              " 'KA49NG4673',\n",
              " 'KA56CZ9470',\n",
              " 'KA86HW3519',\n",
              " 'KA26FQ5899',\n",
              " 'KA77CR7754',\n",
              " 'KA95VK1580',\n",
              " 'KA35AH8816',\n",
              " 'KA73AU2667']"
            ]
          },
          "metadata": {
            "tags": []
          },
          "execution_count": 32
        }
      ]
    },
    {
      "cell_type": "markdown",
      "metadata": {
        "id": "jFtDiakbvP9G"
      },
      "source": [
        "##### 6) Write the above again from scratch where KA can be changed to DL, and 1000/9999 ranges can be provided"
      ]
    },
    {
      "cell_type": "code",
      "metadata": {
        "id": "snpJIZkxtgHz"
      },
      "source": [
        "plates = lambda base, low, high: [base + str(randint(10,99)) + random.choice(CAP_LIST) + random.choice(CAP_LIST) + str(randint(low, high)) for x in range(15)]"
      ],
      "execution_count": null,
      "outputs": []
    },
    {
      "cell_type": "code",
      "metadata": {
        "id": "_ZDAbaVAvlGr",
        "outputId": "48dccdb7-3657-49ce-e55e-032491fff461",
        "colab": {
          "base_uri": "https://localhost:8080/"
        }
      },
      "source": [
        "plates('DL', 2000, 5000)"
      ],
      "execution_count": null,
      "outputs": [
        {
          "output_type": "execute_result",
          "data": {
            "text/plain": [
              "['DL43UP3126',\n",
              " 'DL85HE3800',\n",
              " 'DL70RW2936',\n",
              " 'DL31OS3275',\n",
              " 'DL99MB3612',\n",
              " 'DL48WX4908',\n",
              " 'DL39AL4991',\n",
              " 'DL48AL2143',\n",
              " 'DL75MM2002',\n",
              " 'DL12FJ3447',\n",
              " 'DL46NQ4353',\n",
              " 'DL34NX3662',\n",
              " 'DL73VT4113',\n",
              " 'DL59CJ4058',\n",
              " 'DL39UD3895']"
            ]
          },
          "metadata": {
            "tags": []
          },
          "execution_count": 34
        }
      ]
    },
    {
      "cell_type": "code",
      "metadata": {
        "id": "BcjR9ILovrif"
      },
      "source": [
        ""
      ],
      "execution_count": null,
      "outputs": []
    }
  ]
}