{
  "nbformat": 4,
  "nbformat_minor": 0,
  "metadata": {
    "colab": {
      "name": "S8_Sample.ipynb",
      "provenance": [],
      "collapsed_sections": []
    },
    "kernelspec": {
      "name": "python3",
      "display_name": "Python 3"
    }
  },
  "cells": [
    {
      "cell_type": "code",
      "metadata": {
        "colab": {
          "base_uri": "https://localhost:8080/"
        },
        "id": "sLtZXoPFu8E3",
        "outputId": "cc8c98ef-7479-4054-c734-92d23cdcb069"
      },
      "source": [
        "# write a python program to add two numbers \n",
        "num1 = 1.5\n",
        "num2 = 6.3\n",
        "suma = num1 + num2\n",
        "print(f'Sum: {suma}')"
      ],
      "execution_count": null,
      "outputs": [
        {
          "output_type": "stream",
          "text": [
            "Sum: 7.8\n"
          ],
          "name": "stdout"
        }
      ]
    },
    {
      "cell_type": "code",
      "metadata": {
        "id": "F1Thb1KovHUF"
      },
      "source": [
        "# write a python function to add two user provided numbers and return the sum\n",
        "def add_two_numbers(num1, num2):\n",
        "    sumb = num1 + num2\n",
        "    return sumb"
      ],
      "execution_count": null,
      "outputs": []
    },
    {
      "cell_type": "code",
      "metadata": {
        "colab": {
          "base_uri": "https://localhost:8080/"
        },
        "id": "ZMxOSPktxMLu",
        "outputId": "42583ac1-e934-4c17-96e0-f7a8fb3bd413"
      },
      "source": [
        "# write a program to find and print the largest among three numbers\n",
        "num1 = 10\n",
        "num2 = 12\n",
        "num3 = 14\n",
        "if (num1 >= num2) and (num1 >= num3):\n",
        "   largest = num1\n",
        "elif (num2 >= num1) and (num2 >= num3):\n",
        "   largest = num2\n",
        "else:\n",
        "   largest = num3\n",
        "print(f'largest:{largest}')"
      ],
      "execution_count": null,
      "outputs": [
        {
          "output_type": "stream",
          "text": [
            "largest:14\n"
          ],
          "name": "stdout"
        }
      ]
    },
    {
      "cell_type": "code",
      "metadata": {
        "colab": {
          "base_uri": "https://localhost:8080/"
        },
        "id": "k5yDtnksywAn",
        "outputId": "4bb85d82-662f-46a8-e1f8-2a3635738416"
      },
      "source": [
        "# Highest repeated word in a sentence\n",
        "\n",
        "sent = \"here i am trying to find out who was here\"\n",
        "\n",
        "print(f'Highest repeated word in the above sentence is: {max(sent.split(),key=sent.split().count)}')"
      ],
      "execution_count": null,
      "outputs": [
        {
          "output_type": "stream",
          "text": [
            "Highest repeated word in the above sentence is: here\n"
          ],
          "name": "stdout"
        }
      ]
    },
    {
      "cell_type": "code",
      "metadata": {
        "colab": {
          "base_uri": "https://localhost:8080/"
        },
        "id": "j7GEu7X12NQJ",
        "outputId": "46df73ae-a8ea-456b-ddd1-00370ac63025"
      },
      "source": [
        "# Given two lists where one list has an extra element, find that element using Sum.\n",
        "\n",
        "l1 = [5, 54, 78, 4, 96]\n",
        "l2 = [5, 54, 78, 37, 4, 96]\n",
        "\n",
        "def extra_elem_with_sum(l1, l2):\n",
        "  l1 = sum(l1)\n",
        "  l2 = sum(l2)\n",
        "\n",
        "  if l1 > l2:\n",
        "    return l1 - l2\n",
        "  else:\n",
        "    return l2 - l1\n",
        "\n",
        "print(extra_elem_with_sum(l1, l2))"
      ],
      "execution_count": null,
      "outputs": [
        {
          "output_type": "stream",
          "text": [
            "37\n"
          ],
          "name": "stdout"
        }
      ]
    },
    {
      "cell_type": "code",
      "metadata": {
        "colab": {
          "base_uri": "https://localhost:8080/"
        },
        "id": "6sqNTgFL65Km",
        "outputId": "ad39b558-8389-4b2d-af20-2b563c40c97e"
      },
      "source": [
        "# Given two lists where one list has an extra element, find that element using XOR.\n",
        "\n",
        "l1 = [5, 54, 78, 4, 96]\n",
        "l2 = [5, 54, 78, 37, 4, 96]\n",
        "\n",
        "def extra_elem_with_xor(l1, l2):\n",
        "  base = 0\n",
        "  for el in l1:\n",
        "    base = base ^ el\n",
        "  for el in l2:\n",
        "    base = base ^ el\n",
        "  return base\n",
        "\n",
        "print(extra_elem_with_xor(l1, l2))"
      ],
      "execution_count": null,
      "outputs": [
        {
          "output_type": "stream",
          "text": [
            "37\n"
          ],
          "name": "stdout"
        }
      ]
    },
    {
      "cell_type": "code",
      "metadata": {
        "colab": {
          "base_uri": "https://localhost:8080/"
        },
        "id": "Uj5fw1tR9qcJ",
        "outputId": "168fddc5-444e-47d4-ea58-c4e97fa03278"
      },
      "source": [
        "# write a program to remove custom stop words and return string\n",
        "\n",
        "stopwords = ['is', 'are', 'and', 'the', 'i', 'am', 'me', 'my', 'to']\n",
        "\n",
        "string = 'my name is sreekanth i am trying to complete the assignment'\n",
        "\n",
        "nostops = []\n",
        "for word in string.split():\n",
        "  if not word in stopwords:\n",
        "    nostops.append(word)\n",
        "print(\" \".join(nostops))\n"
      ],
      "execution_count": null,
      "outputs": [
        {
          "output_type": "stream",
          "text": [
            "name sreekanth trying complete assignment\n"
          ],
          "name": "stdout"
        }
      ]
    },
    {
      "cell_type": "code",
      "metadata": {
        "id": "1UhzKFuKAbCA"
      },
      "source": [
        ""
      ],
      "execution_count": null,
      "outputs": []
    }
  ]
}