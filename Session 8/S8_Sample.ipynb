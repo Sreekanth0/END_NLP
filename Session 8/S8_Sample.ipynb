{
  "nbformat": 4,
  "nbformat_minor": 0,
  "metadata": {
    "colab": {
      "name": "S8_Sample.ipynb",
      "provenance": [],
      "collapsed_sections": []
    },
    "kernelspec": {
      "name": "python3",
      "display_name": "Python 3"
    }
  },
  "cells": [
    {
      "cell_type": "code",
      "metadata": {
        "colab": {
          "base_uri": "https://localhost:8080/"
        },
        "id": "sLtZXoPFu8E3",
        "outputId": "2adde87c-f767-495a-ae4e-dd0a677f5916"
      },
      "source": [
        "# write a python program to add two numbers \n",
        "num1 = 1.5\n",
        "num2 = 6.3\n",
        "suma = num1 + num2\n",
        "print(f'Sum: {suma}')"
      ],
      "execution_count": 1,
      "outputs": [
        {
          "output_type": "stream",
          "text": [
            "Sum: 7.8\n"
          ],
          "name": "stdout"
        }
      ]
    },
    {
      "cell_type": "code",
      "metadata": {
        "id": "F1Thb1KovHUF"
      },
      "source": [
        "# write a python function to add two user provided numbers and return the sum\n",
        "def add_two_numbers(num1, num2):\n",
        "    sumb = num1 + num2\n",
        "    return sumb"
      ],
      "execution_count": 2,
      "outputs": []
    },
    {
      "cell_type": "code",
      "metadata": {
        "colab": {
          "base_uri": "https://localhost:8080/"
        },
        "id": "ZMxOSPktxMLu",
        "outputId": "4a73f81c-e3d4-47e6-9b08-7dfd2e239a76"
      },
      "source": [
        "# write a program to find and print the largest among three numbers\n",
        "num1 = 10\n",
        "num2 = 12\n",
        "num3 = 14\n",
        "if (num1 >= num2) and (num1 >= num3):\n",
        "   largest = num1\n",
        "elif (num2 >= num1) and (num2 >= num3):\n",
        "   largest = num2\n",
        "else:\n",
        "   largest = num3\n",
        "print(f'largest:{largest}')"
      ],
      "execution_count": 3,
      "outputs": [
        {
          "output_type": "stream",
          "text": [
            "largest:14\n"
          ],
          "name": "stdout"
        }
      ]
    },
    {
      "cell_type": "code",
      "metadata": {
        "colab": {
          "base_uri": "https://localhost:8080/"
        },
        "id": "k5yDtnksywAn",
        "outputId": "fcec6ac0-b4cb-4a62-a6b9-5f8d122f1c4e"
      },
      "source": [
        "# Highest repeated word in a sentence\n",
        "\n",
        "sent = \"here i am trying to find out who was here\"\n",
        "\n",
        "print(f'Highest repeated word in the above sentence is: {max(sent.split(),key=sent.split().count)}')"
      ],
      "execution_count": 4,
      "outputs": [
        {
          "output_type": "stream",
          "text": [
            "Highest repeated word in the above sentence is: here\n"
          ],
          "name": "stdout"
        }
      ]
    },
    {
      "cell_type": "code",
      "metadata": {
        "colab": {
          "base_uri": "https://localhost:8080/"
        },
        "id": "j7GEu7X12NQJ",
        "outputId": "0c239f89-7cc8-4d47-9fb0-5638179a90e7"
      },
      "source": [
        "# Given two lists where one list has an extra element, find that element using Sum.\n",
        "\n",
        "l1 = [5, 54, 78, 4, 96]\n",
        "l2 = [5, 54, 78, 37, 4, 96]\n",
        "\n",
        "def extra_elem_with_sum(l1, l2):\n",
        "  l1 = sum(l1)\n",
        "  l2 = sum(l2)\n",
        "\n",
        "  if l1 > l2:\n",
        "    return l1 - l2\n",
        "  else:\n",
        "    return l2 - l1\n",
        "\n",
        "print(extra_elem_with_sum(l1, l2))"
      ],
      "execution_count": 5,
      "outputs": [
        {
          "output_type": "stream",
          "text": [
            "37\n"
          ],
          "name": "stdout"
        }
      ]
    },
    {
      "cell_type": "code",
      "metadata": {
        "colab": {
          "base_uri": "https://localhost:8080/"
        },
        "id": "6sqNTgFL65Km",
        "outputId": "014d1ec5-ed4a-4560-a5cb-0169794dbae4"
      },
      "source": [
        "# Given two lists where one list has an extra element, find that element using XOR.\n",
        "\n",
        "l1 = [5, 54, 78, 4, 96]\n",
        "l2 = [5, 54, 78, 37, 4, 96]\n",
        "\n",
        "def extra_elem_with_xor(l1, l2):\n",
        "  base = 0\n",
        "  for el in l1:\n",
        "    base = base ^ el\n",
        "  for el in l2:\n",
        "    base = base ^ el\n",
        "  return base\n",
        "\n",
        "print(extra_elem_with_xor(l1, l2))"
      ],
      "execution_count": 6,
      "outputs": [
        {
          "output_type": "stream",
          "text": [
            "37\n"
          ],
          "name": "stdout"
        }
      ]
    },
    {
      "cell_type": "code",
      "metadata": {
        "colab": {
          "base_uri": "https://localhost:8080/"
        },
        "id": "Uj5fw1tR9qcJ",
        "outputId": "23eb819c-9bd4-4b69-9b80-40634dcfaf8d"
      },
      "source": [
        "# write a program to remove custom stop words and return string\n",
        "\n",
        "stopwords = ['is', 'are', 'and', 'the', 'i', 'am', 'me', 'my', 'to']\n",
        "\n",
        "string = 'my name is sreekanth i am trying to complete the assignment'\n",
        "\n",
        "nostops = []\n",
        "for word in string.split():\n",
        "  if not word in stopwords:\n",
        "    nostops.append(word)\n",
        "print(\" \".join(nostops))\n"
      ],
      "execution_count": 7,
      "outputs": [
        {
          "output_type": "stream",
          "text": [
            "name sreekanth trying complete assignment\n"
          ],
          "name": "stdout"
        }
      ]
    },
    {
      "cell_type": "code",
      "metadata": {
        "id": "1UhzKFuKAbCA",
        "colab": {
          "base_uri": "https://localhost:8080/"
        },
        "outputId": "bd439f30-8f87-419e-8dd6-a076e7fb9478"
      },
      "source": [
        "## Given two lists add them using zip\n",
        "\n",
        "l1 = [1, 7, 2, 4, 56, 47]\n",
        "l2 = [5, 3, 7, 23, 65, 34]\n",
        "\n",
        "add = []\n",
        "\n",
        "for x, y in zip(l1, l2):\n",
        "  add.append(x+y)\n",
        "\n",
        "print(f\"Result is: {add}\")"
      ],
      "execution_count": 8,
      "outputs": [
        {
          "output_type": "stream",
          "text": [
            "Result is: [6, 10, 9, 27, 121, 81]\n"
          ],
          "name": "stdout"
        }
      ]
    },
    {
      "cell_type": "code",
      "metadata": {
        "colab": {
          "base_uri": "https://localhost:8080/"
        },
        "id": "A56x_WXmLWON",
        "outputId": "331ef0a6-9dc6-4d29-a5c7-537a5442bec7"
      },
      "source": [
        "## Given two lists add them using enumerate\n",
        "\n",
        "l1 = [1, 7, 2, 4, 56, 47]\n",
        "l2 = [5, 3, 7, 23, 65, 34]\n",
        "\n",
        "add = []\n",
        "\n",
        "for ix, x in enumerate(l1):\n",
        "  add.append(x+l2[ix])\n",
        "\n",
        "print(f\"Result is: {add}\")"
      ],
      "execution_count": 9,
      "outputs": [
        {
          "output_type": "stream",
          "text": [
            "Result is: [6, 10, 9, 27, 121, 81]\n"
          ],
          "name": "stdout"
        }
      ]
    },
    {
      "cell_type": "code",
      "metadata": {
        "colab": {
          "base_uri": "https://localhost:8080/"
        },
        "id": "WlOissMhL4eD",
        "outputId": "a81ab3d6-c640-475b-ddfb-d120b4dda039"
      },
      "source": [
        "## Given a list, finding out non-repititive elements using extra array\n",
        "\n",
        "l1 = [1, 4, 2, 8, 8, 2, 4, 3, 9, 0, 37, 73]\n",
        "\n",
        "ans = []\n",
        "for ele in l1:\n",
        "  if ele in ans:\n",
        "    ans.remove(ele)\n",
        "  else:\n",
        "    ans.append(ele)\n",
        "\n",
        "print(f\"Result is: {ans}\")"
      ],
      "execution_count": 10,
      "outputs": [
        {
          "output_type": "stream",
          "text": [
            "Result is: [1, 3, 9, 0, 37, 73]\n"
          ],
          "name": "stdout"
        }
      ]
    },
    {
      "cell_type": "code",
      "metadata": {
        "colab": {
          "base_uri": "https://localhost:8080/"
        },
        "id": "bGFWTEddiCVN",
        "outputId": "43f1ab6c-b4c4-471e-8b0a-76f9cb280efc"
      },
      "source": [
        "## Merging dictionaries\n",
        "\n",
        "dict1 = {'a': 1, 'b':2}\n",
        "dict2 = {'b': 3, 'c': 4}\n",
        "\n",
        "merged = {**dict1, **dict2}\n",
        "\n",
        "print(merged)"
      ],
      "execution_count": 11,
      "outputs": [
        {
          "output_type": "stream",
          "text": [
            "{'a': 1, 'b': 3, 'c': 4}\n"
          ],
          "name": "stdout"
        }
      ]
    },
    {
      "cell_type": "code",
      "metadata": {
        "colab": {
          "base_uri": "https://localhost:8080/"
        },
        "id": "l7aDHQeAshOA",
        "outputId": "a56cfce8-1e1e-4a7c-d6aa-40cc354c2f38"
      },
      "source": [
        "## Check if two words are Anagram's\n",
        "\n",
        "from collections import Counter\n",
        "\n",
        "def anagram(first, second):\n",
        "  return Counter(first) == Counter(second)\n",
        "\n",
        "print(f\"Are they ANAGRAM's: {anagram('abcde', 'bceda')}\")\n"
      ],
      "execution_count": 12,
      "outputs": [
        {
          "output_type": "stream",
          "text": [
            "Are they ANAGRAM's: True\n"
          ],
          "name": "stdout"
        }
      ]
    },
    {
      "cell_type": "code",
      "metadata": {
        "colab": {
          "base_uri": "https://localhost:8080/"
        },
        "id": "XAVaZNtBuE7R",
        "outputId": "e0981e15-06d0-44e6-a797-605e569ffde5"
      },
      "source": [
        "## Memory usage of variables\n",
        "\n",
        "import sys\n",
        "\n",
        "my_list = range(0, 1000)\n",
        "\n",
        "print(f\"Memory usage of above variable is: {sys.getsizeof(my_list)}\")"
      ],
      "execution_count": 13,
      "outputs": [
        {
          "output_type": "stream",
          "text": [
            "Memory usage of above variable is: 48\n"
          ],
          "name": "stdout"
        }
      ]
    },
    {
      "cell_type": "code",
      "metadata": {
        "colab": {
          "base_uri": "https://localhost:8080/"
        },
        "id": "AG8GfWbWu0gd",
        "outputId": "b16ae76e-54e6-4672-c5e5-47b119c07530"
      },
      "source": [
        "## Check if it's a Palindrome\n",
        "\n",
        "is_palindrome = lambda phrase: phrase == phrase[::-1]\n",
        "\n",
        "print(f\"Is this word Palindrome: {is_palindrome('malayalam')}\")"
      ],
      "execution_count": 14,
      "outputs": [
        {
          "output_type": "stream",
          "text": [
            "Is this word Palindrome: True\n"
          ],
          "name": "stdout"
        }
      ]
    },
    {
      "cell_type": "code",
      "metadata": {
        "colab": {
          "base_uri": "https://localhost:8080/"
        },
        "id": "ss0Br1qWwV9T",
        "outputId": "2fde46e7-466c-4e87-f960-c5fba22631be"
      },
      "source": [
        "## Remove lower case letters from given string\n",
        "\n",
        "import re\n",
        "string1 = 'KHHGFHGfgfgsfjhKhkKJjhfGJGtsFHGKvGH'\n",
        "\n",
        "remove_lower = lambda text: re.sub('[a-z]', '', text)\n",
        "\n",
        "print(f\"After removing lowercase letters: {remove_lower(string1)}\")"
      ],
      "execution_count": 15,
      "outputs": [
        {
          "output_type": "stream",
          "text": [
            "After removing lowercase letters: KHHGFHGKKJGJGFHGKGH\n"
          ],
          "name": "stdout"
        }
      ]
    },
    {
      "cell_type": "code",
      "metadata": {
        "colab": {
          "base_uri": "https://localhost:8080/"
        },
        "id": "N5F6KGB8ytlV",
        "outputId": "ad130531-8349-4925-d879-7ea18a6683a2"
      },
      "source": [
        "## List of integers to list of strings\n",
        "\n",
        "nums_list = [1, 3, 45, 74, 6]\n",
        "\n",
        "result = list(map(str, nums_list))\n",
        "\n",
        "print(result)"
      ],
      "execution_count": 16,
      "outputs": [
        {
          "output_type": "stream",
          "text": [
            "['1', '3', '45', '74', '6']\n"
          ],
          "name": "stdout"
        }
      ]
    },
    {
      "cell_type": "code",
      "metadata": {
        "id": "zHb0xQT_zPDj"
      },
      "source": [
        ""
      ],
      "execution_count": null,
      "outputs": []
    }
  ]
}